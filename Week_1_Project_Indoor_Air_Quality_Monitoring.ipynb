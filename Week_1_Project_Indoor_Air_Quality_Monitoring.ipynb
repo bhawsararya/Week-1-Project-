{
  "nbformat": 4,
  "nbformat_minor": 0,
  "metadata": {
    "colab": {
      "provenance": []
    },
    "kernelspec": {
      "name": "python3",
      "display_name": "Python 3"
    },
    "language_info": {
      "name": "python"
    }
  },
  "cells": [
    {
      "cell_type": "code",
      "execution_count": 1,
      "metadata": {
        "colab": {
          "base_uri": "https://localhost:8080/"
        },
        "id": "FmQLggBQj1ab",
        "outputId": "3ce734e2-ccff-4633-d8c0-daa39be2709b"
      },
      "outputs": [
        {
          "output_type": "stream",
          "name": "stdout",
          "text": [
            "Dataset Info:\n",
            "<class 'pandas.core.frame.DataFrame'>\n",
            "RangeIndex: 1333 entries, 0 to 1332\n",
            "Data columns (total 13 columns):\n",
            " #   Column      Non-Null Count  Dtype  \n",
            "---  ------      --------------  -----  \n",
            " 0   created_at  1333 non-null   object \n",
            " 1   entry_id    1333 non-null   int64  \n",
            " 2   field1      1333 non-null   int64  \n",
            " 3   field2      1333 non-null   float64\n",
            " 4   field3      1333 non-null   float64\n",
            " 5   field4      1333 non-null   float64\n",
            " 6   field5      1333 non-null   float64\n",
            " 7   field6      1333 non-null   float64\n",
            " 8   field7      1333 non-null   float64\n",
            " 9   latitude    0 non-null      float64\n",
            " 10  longitude   0 non-null      float64\n",
            " 11  elevation   0 non-null      float64\n",
            " 12  status      0 non-null      float64\n",
            "dtypes: float64(10), int64(2), object(1)\n",
            "memory usage: 135.5+ KB\n",
            "None\n",
            "\n",
            "Summary Statistics:\n",
            "          entry_id       field1       field2       field3       field4  \\\n",
            "count  1333.000000  1333.000000  1333.000000  1333.000000  1333.000000   \n",
            "mean   1922.000000   185.722431    40.119280    32.807502    55.381845   \n",
            "std     384.948265    14.976140     2.779974     0.982079     9.547913   \n",
            "min    1256.000000   149.000000    35.000000    30.700000    39.000000   \n",
            "25%    1589.000000   172.000000    38.000000    31.800000    45.000000   \n",
            "50%    1922.000000   188.000000    40.000000    33.300000    57.000000   \n",
            "75%    2255.000000   196.000000    42.000000    33.700000    66.000000   \n",
            "max    2588.000000   228.000000    50.000000    34.200000    69.000000   \n",
            "\n",
            "            field5       field6       field7  latitude  longitude  elevation  \\\n",
            "count  1333.000000  1333.000000  1333.000000       0.0        0.0        0.0   \n",
            "mean    650.113278    37.633158    14.775694       NaN        NaN        NaN   \n",
            "std     147.260830    22.571535    72.178114       NaN        NaN        NaN   \n",
            "min     400.000000     0.000000     0.000000       NaN        NaN        NaN   \n",
            "25%     548.000000    22.000000     0.000000       NaN        NaN        NaN   \n",
            "50%     615.000000    32.000000     0.000000       NaN        NaN        NaN   \n",
            "75%     715.000000    47.000000     4.000000       NaN        NaN        NaN   \n",
            "max    1518.000000   184.000000   625.000000       NaN        NaN        NaN   \n",
            "\n",
            "       status  \n",
            "count     0.0  \n",
            "mean      NaN  \n",
            "std       NaN  \n",
            "min       NaN  \n",
            "25%       NaN  \n",
            "50%       NaN  \n",
            "75%       NaN  \n",
            "max       NaN  \n",
            "\n",
            "Missing Values:\n",
            "created_at       0\n",
            "entry_id         0\n",
            "field1           0\n",
            "field2           0\n",
            "field3           0\n",
            "field4           0\n",
            "field5           0\n",
            "field6           0\n",
            "field7           0\n",
            "latitude      1333\n",
            "longitude     1333\n",
            "elevation     1333\n",
            "status        1333\n",
            "dtype: int64\n"
          ]
        }
      ],
      "source": [
        "# 1. Import necessary libraries\n",
        "import pandas as pd\n",
        "import numpy as np\n",
        "\n",
        "# 2. Load the dataset\n",
        "df = pd.read_csv(\"/content/indoor_data.csv\")  # Make sure this file is in your working directory\n",
        "\n",
        "# 3. Explore the dataset\n",
        "\n",
        "# Basic structure of the dataset\n",
        "print(\"Dataset Info:\")\n",
        "print(df.info())\n",
        "\n",
        "# Summary statistics\n",
        "print(\"\\nSummary Statistics:\")\n",
        "print(df.describe())\n",
        "\n",
        "# Check for missing values\n",
        "print(\"\\nMissing Values:\")\n",
        "print(df.isnull().sum())\n"
      ]
    }
  ]
}